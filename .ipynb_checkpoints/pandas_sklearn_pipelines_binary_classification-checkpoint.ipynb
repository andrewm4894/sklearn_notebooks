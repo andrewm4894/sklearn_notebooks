{
 "cells": [
  {
   "cell_type": "markdown",
   "metadata": {},
   "source": [
    "## Setup"
   ]
  },
  {
   "cell_type": "code",
   "execution_count": 48,
   "metadata": {
    "ExecuteTime": {
     "end_time": "2017-09-08T14:45:01.079976Z",
     "start_time": "2017-09-08T14:45:00.976905Z"
    },
    "collapsed": true,
    "scrolled": true
   },
   "outputs": [],
   "source": [
    "# general imports\n",
    "import matplotlib.pyplot as plt\n",
    "import pandas as pd\n",
    "import numpy as np\n",
    "import random\n",
    "from copy import deepcopy\n",
    "from pprint import pprint\n",
    "from time import time\n",
    "import logging\n",
    "from pandas_ml import ConfusionMatrix\n",
    "from sklearn.metrics import confusion_matrix\n",
    "\n",
    "# sklearn imports\n",
    "from sklearn_pandas import DataFrameMapper\n",
    "from sklearn.pipeline import Pipeline, FeatureUnion, make_pipeline, make_union\n",
    "from sklearn.model_selection import train_test_split\n",
    "from sklearn.preprocessing import LabelBinarizer, Imputer, StandardScaler, OneHotEncoder\n",
    "from sklearn.feature_extraction.text import CountVectorizer, TfidfTransformer\n",
    "from sklearn.ensemble import RandomForestClassifier\n",
    "from sklearn.model_selection import GridSearchCV\n",
    "from sklearn.metrics import *\n",
    "\n",
    "%matplotlib inline\n",
    "\n",
    "plt.style.use('ggplot')"
   ]
  },
  {
   "cell_type": "markdown",
   "metadata": {},
   "source": [
    "## Data"
   ]
  },
  {
   "cell_type": "code",
   "execution_count": 49,
   "metadata": {
    "ExecuteTime": {
     "end_time": "2017-09-08T14:45:03.418240Z",
     "start_time": "2017-09-08T14:45:01.084985Z"
    },
    "scrolled": false
   },
   "outputs": [
    {
     "data": {
      "text/html": [
       "<div>\n",
       "<style>\n",
       "    .dataframe thead tr:only-child th {\n",
       "        text-align: right;\n",
       "    }\n",
       "\n",
       "    .dataframe thead th {\n",
       "        text-align: left;\n",
       "    }\n",
       "\n",
       "    .dataframe tbody tr th {\n",
       "        vertical-align: top;\n",
       "    }\n",
       "</style>\n",
       "<table border=\"1\" class=\"dataframe\">\n",
       "  <thead>\n",
       "    <tr style=\"text-align: right;\">\n",
       "      <th></th>\n",
       "      <th>PassengerId</th>\n",
       "      <th>Survived</th>\n",
       "      <th>Pclass</th>\n",
       "      <th>Name</th>\n",
       "      <th>Sex</th>\n",
       "      <th>Age</th>\n",
       "      <th>SibSp</th>\n",
       "      <th>Parch</th>\n",
       "      <th>Ticket</th>\n",
       "      <th>Fare</th>\n",
       "      <th>Cabin</th>\n",
       "      <th>Embarked</th>\n",
       "    </tr>\n",
       "  </thead>\n",
       "  <tbody>\n",
       "    <tr>\n",
       "      <th>0</th>\n",
       "      <td>1</td>\n",
       "      <td>0</td>\n",
       "      <td>3</td>\n",
       "      <td>Braund, Mr. Owen Harris</td>\n",
       "      <td>male</td>\n",
       "      <td>22.0</td>\n",
       "      <td>1</td>\n",
       "      <td>0</td>\n",
       "      <td>A/5 21171</td>\n",
       "      <td>7.2500</td>\n",
       "      <td>NaN</td>\n",
       "      <td>S</td>\n",
       "    </tr>\n",
       "    <tr>\n",
       "      <th>1</th>\n",
       "      <td>2</td>\n",
       "      <td>1</td>\n",
       "      <td>1</td>\n",
       "      <td>Cumings, Mrs. John Bradley (Florence Briggs Th...</td>\n",
       "      <td>female</td>\n",
       "      <td>38.0</td>\n",
       "      <td>1</td>\n",
       "      <td>0</td>\n",
       "      <td>PC 17599</td>\n",
       "      <td>71.2833</td>\n",
       "      <td>C85</td>\n",
       "      <td>C</td>\n",
       "    </tr>\n",
       "    <tr>\n",
       "      <th>2</th>\n",
       "      <td>3</td>\n",
       "      <td>1</td>\n",
       "      <td>3</td>\n",
       "      <td>Heikkinen, Miss. Laina</td>\n",
       "      <td>female</td>\n",
       "      <td>26.0</td>\n",
       "      <td>0</td>\n",
       "      <td>0</td>\n",
       "      <td>STON/O2. 3101282</td>\n",
       "      <td>7.9250</td>\n",
       "      <td>NaN</td>\n",
       "      <td>S</td>\n",
       "    </tr>\n",
       "    <tr>\n",
       "      <th>3</th>\n",
       "      <td>4</td>\n",
       "      <td>1</td>\n",
       "      <td>1</td>\n",
       "      <td>Futrelle, Mrs. Jacques Heath (Lily May Peel)</td>\n",
       "      <td>female</td>\n",
       "      <td>35.0</td>\n",
       "      <td>1</td>\n",
       "      <td>0</td>\n",
       "      <td>113803</td>\n",
       "      <td>53.1000</td>\n",
       "      <td>C123</td>\n",
       "      <td>S</td>\n",
       "    </tr>\n",
       "    <tr>\n",
       "      <th>4</th>\n",
       "      <td>5</td>\n",
       "      <td>0</td>\n",
       "      <td>3</td>\n",
       "      <td>Allen, Mr. William Henry</td>\n",
       "      <td>male</td>\n",
       "      <td>35.0</td>\n",
       "      <td>0</td>\n",
       "      <td>0</td>\n",
       "      <td>373450</td>\n",
       "      <td>8.0500</td>\n",
       "      <td>NaN</td>\n",
       "      <td>S</td>\n",
       "    </tr>\n",
       "  </tbody>\n",
       "</table>\n",
       "</div>"
      ],
      "text/plain": [
       "   PassengerId  Survived  Pclass  \\\n",
       "0            1         0       3   \n",
       "1            2         1       1   \n",
       "2            3         1       3   \n",
       "3            4         1       1   \n",
       "4            5         0       3   \n",
       "\n",
       "                                                Name     Sex   Age  SibSp  \\\n",
       "0                            Braund, Mr. Owen Harris    male  22.0      1   \n",
       "1  Cumings, Mrs. John Bradley (Florence Briggs Th...  female  38.0      1   \n",
       "2                             Heikkinen, Miss. Laina  female  26.0      0   \n",
       "3       Futrelle, Mrs. Jacques Heath (Lily May Peel)  female  35.0      1   \n",
       "4                           Allen, Mr. William Henry    male  35.0      0   \n",
       "\n",
       "   Parch            Ticket     Fare Cabin Embarked  \n",
       "0      0         A/5 21171   7.2500   NaN        S  \n",
       "1      0          PC 17599  71.2833   C85        C  \n",
       "2      0  STON/O2. 3101282   7.9250   NaN        S  \n",
       "3      0            113803  53.1000  C123        S  \n",
       "4      0            373450   8.0500   NaN        S  "
      ]
     },
     "execution_count": 49,
     "metadata": {},
     "output_type": "execute_result"
    }
   ],
   "source": [
    "df = pd.read_csv('https://raw.githubusercontent.com/andrewm4894/random/master/titanic.csv')\n",
    "df.head()"
   ]
  },
  {
   "cell_type": "markdown",
   "metadata": {},
   "source": [
    "## X & y"
   ]
  },
  {
   "cell_type": "code",
   "execution_count": 50,
   "metadata": {
    "ExecuteTime": {
     "end_time": "2017-09-08T14:45:03.457263Z",
     "start_time": "2017-09-08T14:45:03.423245Z"
    },
    "collapsed": true
   },
   "outputs": [],
   "source": [
    "MY_FEATURES = ['Name', 'Ticket', 'Sex', 'Fare', 'Age', 'Pclass']\n",
    "MY_TARGET = 'Survived'\n",
    "df['target'] = df[MY_TARGET]\n",
    "\n",
    "X = df[MY_FEATURES]\n",
    "y = df[[MY_TARGET]].rename(columns={MY_TARGET: \"target\"})"
   ]
  },
  {
   "cell_type": "code",
   "execution_count": 51,
   "metadata": {
    "ExecuteTime": {
     "end_time": "2017-09-08T14:45:03.524311Z",
     "start_time": "2017-09-08T14:45:03.465271Z"
    }
   },
   "outputs": [
    {
     "data": {
      "text/html": [
       "<div>\n",
       "<style>\n",
       "    .dataframe thead tr:only-child th {\n",
       "        text-align: right;\n",
       "    }\n",
       "\n",
       "    .dataframe thead th {\n",
       "        text-align: left;\n",
       "    }\n",
       "\n",
       "    .dataframe tbody tr th {\n",
       "        vertical-align: top;\n",
       "    }\n",
       "</style>\n",
       "<table border=\"1\" class=\"dataframe\">\n",
       "  <thead>\n",
       "    <tr style=\"text-align: right;\">\n",
       "      <th></th>\n",
       "      <th>Name</th>\n",
       "      <th>Ticket</th>\n",
       "      <th>Sex</th>\n",
       "      <th>Fare</th>\n",
       "      <th>Age</th>\n",
       "      <th>Pclass</th>\n",
       "    </tr>\n",
       "  </thead>\n",
       "  <tbody>\n",
       "    <tr>\n",
       "      <th>0</th>\n",
       "      <td>Braund, Mr. Owen Harris</td>\n",
       "      <td>A/5 21171</td>\n",
       "      <td>male</td>\n",
       "      <td>7.2500</td>\n",
       "      <td>22.0</td>\n",
       "      <td>3</td>\n",
       "    </tr>\n",
       "    <tr>\n",
       "      <th>1</th>\n",
       "      <td>Cumings, Mrs. John Bradley (Florence Briggs Th...</td>\n",
       "      <td>PC 17599</td>\n",
       "      <td>female</td>\n",
       "      <td>71.2833</td>\n",
       "      <td>38.0</td>\n",
       "      <td>1</td>\n",
       "    </tr>\n",
       "    <tr>\n",
       "      <th>2</th>\n",
       "      <td>Heikkinen, Miss. Laina</td>\n",
       "      <td>STON/O2. 3101282</td>\n",
       "      <td>female</td>\n",
       "      <td>7.9250</td>\n",
       "      <td>26.0</td>\n",
       "      <td>3</td>\n",
       "    </tr>\n",
       "    <tr>\n",
       "      <th>3</th>\n",
       "      <td>Futrelle, Mrs. Jacques Heath (Lily May Peel)</td>\n",
       "      <td>113803</td>\n",
       "      <td>female</td>\n",
       "      <td>53.1000</td>\n",
       "      <td>35.0</td>\n",
       "      <td>1</td>\n",
       "    </tr>\n",
       "    <tr>\n",
       "      <th>4</th>\n",
       "      <td>Allen, Mr. William Henry</td>\n",
       "      <td>373450</td>\n",
       "      <td>male</td>\n",
       "      <td>8.0500</td>\n",
       "      <td>35.0</td>\n",
       "      <td>3</td>\n",
       "    </tr>\n",
       "  </tbody>\n",
       "</table>\n",
       "</div>"
      ],
      "text/plain": [
       "                                                Name            Ticket  \\\n",
       "0                            Braund, Mr. Owen Harris         A/5 21171   \n",
       "1  Cumings, Mrs. John Bradley (Florence Briggs Th...          PC 17599   \n",
       "2                             Heikkinen, Miss. Laina  STON/O2. 3101282   \n",
       "3       Futrelle, Mrs. Jacques Heath (Lily May Peel)            113803   \n",
       "4                           Allen, Mr. William Henry            373450   \n",
       "\n",
       "      Sex     Fare   Age  Pclass  \n",
       "0    male   7.2500  22.0       3  \n",
       "1  female  71.2833  38.0       1  \n",
       "2  female   7.9250  26.0       3  \n",
       "3  female  53.1000  35.0       1  \n",
       "4    male   8.0500  35.0       3  "
      ]
     },
     "execution_count": 51,
     "metadata": {},
     "output_type": "execute_result"
    }
   ],
   "source": [
    "X.head()"
   ]
  },
  {
   "cell_type": "code",
   "execution_count": 52,
   "metadata": {
    "ExecuteTime": {
     "end_time": "2017-09-08T14:45:03.573346Z",
     "start_time": "2017-09-08T14:45:03.536320Z"
    }
   },
   "outputs": [
    {
     "data": {
      "text/html": [
       "<div>\n",
       "<style>\n",
       "    .dataframe thead tr:only-child th {\n",
       "        text-align: right;\n",
       "    }\n",
       "\n",
       "    .dataframe thead th {\n",
       "        text-align: left;\n",
       "    }\n",
       "\n",
       "    .dataframe tbody tr th {\n",
       "        vertical-align: top;\n",
       "    }\n",
       "</style>\n",
       "<table border=\"1\" class=\"dataframe\">\n",
       "  <thead>\n",
       "    <tr style=\"text-align: right;\">\n",
       "      <th></th>\n",
       "      <th>target</th>\n",
       "    </tr>\n",
       "  </thead>\n",
       "  <tbody>\n",
       "    <tr>\n",
       "      <th>0</th>\n",
       "      <td>0</td>\n",
       "    </tr>\n",
       "    <tr>\n",
       "      <th>1</th>\n",
       "      <td>1</td>\n",
       "    </tr>\n",
       "    <tr>\n",
       "      <th>2</th>\n",
       "      <td>1</td>\n",
       "    </tr>\n",
       "    <tr>\n",
       "      <th>3</th>\n",
       "      <td>1</td>\n",
       "    </tr>\n",
       "    <tr>\n",
       "      <th>4</th>\n",
       "      <td>0</td>\n",
       "    </tr>\n",
       "  </tbody>\n",
       "</table>\n",
       "</div>"
      ],
      "text/plain": [
       "   target\n",
       "0       0\n",
       "1       1\n",
       "2       1\n",
       "3       1\n",
       "4       0"
      ]
     },
     "execution_count": 52,
     "metadata": {},
     "output_type": "execute_result"
    }
   ],
   "source": [
    "y.head()"
   ]
  },
  {
   "cell_type": "markdown",
   "metadata": {},
   "source": [
    "## EDA"
   ]
  },
  {
   "cell_type": "markdown",
   "metadata": {},
   "source": [
    "### EDA: Missing Values"
   ]
  },
  {
   "cell_type": "code",
   "execution_count": 53,
   "metadata": {
    "ExecuteTime": {
     "end_time": "2017-09-08T14:45:03.610374Z",
     "start_time": "2017-09-08T14:45:03.580350Z"
    }
   },
   "outputs": [
    {
     "name": "stdout",
     "output_type": "stream",
     "text": [
      "% Missing Values\n",
      "Name       0.00000\n",
      "Ticket     0.00000\n",
      "Sex        0.00000\n",
      "Fare       0.00000\n",
      "Age       19.86532\n",
      "Pclass     0.00000\n",
      "dtype: float64\n"
     ]
    }
   ],
   "source": [
    "# Look for missing data in each col\n",
    "print(\"% Missing Values\")\n",
    "print(X.isnull().sum()/len(X)*100)"
   ]
  },
  {
   "cell_type": "markdown",
   "metadata": {},
   "source": [
    "### EDA: Summary Stats"
   ]
  },
  {
   "cell_type": "code",
   "execution_count": 54,
   "metadata": {
    "ExecuteTime": {
     "end_time": "2017-09-08T14:45:03.691431Z",
     "start_time": "2017-09-08T14:45:03.620380Z"
    }
   },
   "outputs": [
    {
     "data": {
      "text/html": [
       "<div>\n",
       "<style>\n",
       "    .dataframe thead tr:only-child th {\n",
       "        text-align: right;\n",
       "    }\n",
       "\n",
       "    .dataframe thead th {\n",
       "        text-align: left;\n",
       "    }\n",
       "\n",
       "    .dataframe tbody tr th {\n",
       "        vertical-align: top;\n",
       "    }\n",
       "</style>\n",
       "<table border=\"1\" class=\"dataframe\">\n",
       "  <thead>\n",
       "    <tr style=\"text-align: right;\">\n",
       "      <th></th>\n",
       "      <th>Fare</th>\n",
       "      <th>Age</th>\n",
       "      <th>Pclass</th>\n",
       "    </tr>\n",
       "  </thead>\n",
       "  <tbody>\n",
       "    <tr>\n",
       "      <th>count</th>\n",
       "      <td>891.000000</td>\n",
       "      <td>714.000000</td>\n",
       "      <td>891.000000</td>\n",
       "    </tr>\n",
       "    <tr>\n",
       "      <th>mean</th>\n",
       "      <td>32.204208</td>\n",
       "      <td>29.699118</td>\n",
       "      <td>2.308642</td>\n",
       "    </tr>\n",
       "    <tr>\n",
       "      <th>std</th>\n",
       "      <td>49.693429</td>\n",
       "      <td>14.526497</td>\n",
       "      <td>0.836071</td>\n",
       "    </tr>\n",
       "    <tr>\n",
       "      <th>min</th>\n",
       "      <td>0.000000</td>\n",
       "      <td>0.420000</td>\n",
       "      <td>1.000000</td>\n",
       "    </tr>\n",
       "    <tr>\n",
       "      <th>25%</th>\n",
       "      <td>7.910400</td>\n",
       "      <td>20.125000</td>\n",
       "      <td>2.000000</td>\n",
       "    </tr>\n",
       "    <tr>\n",
       "      <th>50%</th>\n",
       "      <td>14.454200</td>\n",
       "      <td>28.000000</td>\n",
       "      <td>3.000000</td>\n",
       "    </tr>\n",
       "    <tr>\n",
       "      <th>75%</th>\n",
       "      <td>31.000000</td>\n",
       "      <td>38.000000</td>\n",
       "      <td>3.000000</td>\n",
       "    </tr>\n",
       "    <tr>\n",
       "      <th>max</th>\n",
       "      <td>512.329200</td>\n",
       "      <td>80.000000</td>\n",
       "      <td>3.000000</td>\n",
       "    </tr>\n",
       "  </tbody>\n",
       "</table>\n",
       "</div>"
      ],
      "text/plain": [
       "             Fare         Age      Pclass\n",
       "count  891.000000  714.000000  891.000000\n",
       "mean    32.204208   29.699118    2.308642\n",
       "std     49.693429   14.526497    0.836071\n",
       "min      0.000000    0.420000    1.000000\n",
       "25%      7.910400   20.125000    2.000000\n",
       "50%     14.454200   28.000000    3.000000\n",
       "75%     31.000000   38.000000    3.000000\n",
       "max    512.329200   80.000000    3.000000"
      ]
     },
     "execution_count": 54,
     "metadata": {},
     "output_type": "execute_result"
    }
   ],
   "source": [
    "# Look at X values\n",
    "X.describe()"
   ]
  },
  {
   "cell_type": "markdown",
   "metadata": {},
   "source": [
    "### EDA: Value Counts"
   ]
  },
  {
   "cell_type": "code",
   "execution_count": 55,
   "metadata": {
    "ExecuteTime": {
     "end_time": "2017-09-08T14:45:03.818523Z",
     "start_time": "2017-09-08T14:45:03.699436Z"
    }
   },
   "outputs": [
    {
     "name": "stdout",
     "output_type": "stream",
     "text": [
      " \n",
      "==========================\n",
      "Name\n",
      "==========================\n",
      "Gheorgheff, Mr. Stanio                               1\n",
      "Astor, Mrs. John Jacob (Madeleine Talmadge Force)    1\n",
      "Hart, Mr. Henry                                      1\n",
      "Peuchen, Major. Arthur Godfrey                       1\n",
      "Walker, Mr. William Anderson                         1\n",
      "Allum, Mr. Owen George                               1\n",
      "Harper, Mrs. Henry Sleeper (Myna Haxtun)             1\n",
      "Beavan, Mr. William Thomas                           1\n",
      "Anderson, Mr. Harry                                  1\n",
      "Williams, Mr. Leslie                                 1\n",
      "Name: Name, dtype: int64\n",
      "--------------------------\n",
      "881 Other distinct values covering 880 (0.99) records.\n",
      "==========================\n",
      " \n",
      "==========================\n",
      "Ticket\n",
      "==========================\n",
      "1601            7\n",
      "CA. 2343        7\n",
      "347082          7\n",
      "3101295         6\n",
      "CA 2144         6\n",
      "347088          6\n",
      "382652          5\n",
      "S.O.C. 14879    5\n",
      "4133            4\n",
      "347077          4\n",
      "Name: Ticket, dtype: int64\n",
      "--------------------------\n",
      "671 Other distinct values covering 830 (0.99) records.\n",
      "==========================\n",
      " \n",
      "==========================\n",
      "Sex\n",
      "==========================\n",
      "male      577\n",
      "female    314\n",
      "Name: Sex, dtype: int64\n",
      "--------------------------\n",
      "0 Other distinct values covering 0 (0.0) records.\n",
      "==========================\n"
     ]
    }
   ],
   "source": [
    "for x,t in zip(X.columns,X.dtypes):\n",
    "    if t == 'object':        \n",
    "        vc = df[x].value_counts()\n",
    "        len_vc = len(vc)\n",
    "        n = min(len_vc,10)\n",
    "        other_sum = sum(vc[n+1:len_vc])\n",
    "        other_cnt = len_vc-n\n",
    "        other_cnt_pct = round(other_cnt/len_vc,2)\n",
    "        print(\" \")\n",
    "        print(\"==========================\")\n",
    "        print(x)\n",
    "        print(\"==========================\")\n",
    "        print(vc.head(n))\n",
    "        print(\"--------------------------\")\n",
    "        print(\"{0} Other distinct values covering {1} ({2}) records.\".format(other_cnt, other_sum, other_cnt_pct))\n",
    "        print(\"==========================\")"
   ]
  },
  {
   "cell_type": "markdown",
   "metadata": {},
   "source": [
    "### EDA: Plots"
   ]
  },
  {
   "cell_type": "code",
   "execution_count": 56,
   "metadata": {
    "ExecuteTime": {
     "end_time": "2017-09-08T14:45:07.299991Z",
     "start_time": "2017-09-08T14:45:03.828529Z"
    }
   },
   "outputs": [
    {
     "name": "stderr",
     "output_type": "stream",
     "text": [
      "c:\\users\\andrew\\appdata\\local\\programs\\python\\python36\\lib\\site-packages\\ipykernel_launcher.py:8: RuntimeWarning: divide by zero encountered in log\n",
      "  \n",
      "c:\\users\\andrew\\appdata\\local\\programs\\python\\python36\\lib\\site-packages\\ipykernel_launcher.py:8: SettingWithCopyWarning: \n",
      "A value is trying to be set on a copy of a slice from a DataFrame.\n",
      "Try using .loc[row_indexer,col_indexer] = value instead\n",
      "\n",
      "See the caveats in the documentation: http://pandas.pydata.org/pandas-docs/stable/indexing.html#indexing-view-versus-copy\n",
      "  \n"
     ]
    },
    {
     "data": {
      "image/png": "[encoded data removed]",
      "text/plain": [
       "<matplotlib.figure.Figure at 0x23fce84bdd8>"
      ]
     },
     "metadata": {},
     "output_type": "display_data"
    },
    {
     "data": {
      "image/png": "[encoded data removed]",
      "text/plain": [
       "<matplotlib.figure.Figure at 0x23fce9e6b00>"
      ]
     },
     "metadata": {},
     "output_type": "display_data"
    },
    {
     "data": {
      "image/png": "[encoded data removed]",
      "text/plain": [
       "<matplotlib.figure.Figure at 0x23fc640f550>"
      ]
     },
     "metadata": {},
     "output_type": "display_data"
    },
    {
     "data": {
      "image/png": "[encoded data removed]",
      "text/plain": [
       "<matplotlib.figure.Figure at 0x23fc4e6efd0>"
      ]
     },
     "metadata": {},
     "output_type": "display_data"
    },
    {
     "data": {
      "image/png": "[encoded data removed]",
      "text/plain": [
       "<matplotlib.figure.Figure at 0x23fc4abed30>"
      ]
     },
     "metadata": {},
     "output_type": "display_data"
    },
    {
     "data": {
      "image/png": "[encoded data removed]",
      "text/plain": [
       "<matplotlib.figure.Figure at 0x23fce0cdfd0>"
      ]
     },
     "metadata": {},
     "output_type": "display_data"
    }
   ],
   "source": [
    "for x,t in zip(X.columns,X.dtypes):\n",
    "    if t != 'object' and len((df[x]).unique()) > 50 :\n",
    "        box = df.boxplot(column=x, by='target')\n",
    "        box.set_title('')\n",
    "        box.set_ylabel(x)\n",
    "        box\n",
    "        df_log = df[[x,'target']]\n",
    "        df_log[x] = np.log(df_log[x])\n",
    "        box_log = df_log.boxplot(column=x, by='target')\n",
    "        box_log.set_title('')\n",
    "        box_log.set_ylabel('log('+x+')')\n",
    "        box_log\n",
    "        del df_log\n",
    "        #scatter = df.plot.scatter(x, 'target')\n",
    "        #scatter.set_title('')\n",
    "        #scatter.set_ylabel(x)\n",
    "        #scatter\n",
    "    elif len(df[x].value_counts()) <= 20:\n",
    "        bar = pd.DataFrame(df.groupby([x])['target'].mean()).plot.bar()\n",
    "        bar.set_ylabel('Pos Rate')\n",
    "        bar.set_title('')\n",
    "        bar"
   ]
  },
  {
   "cell_type": "markdown",
   "metadata": {},
   "source": [
    "## Train / Dev / Test"
   ]
  },
  {
   "cell_type": "code",
   "execution_count": 57,
   "metadata": {
    "ExecuteTime": {
     "end_time": "2017-09-08T14:45:07.438088Z",
     "start_time": "2017-09-08T14:45:07.305996Z"
    }
   },
   "outputs": [
    {
     "name": "stdout",
     "output_type": "stream",
     "text": [
      "X_train is 623 rows (0.7)\n",
      "y_train is 623 rows (0.7)\n",
      "X_dev is 178 rows (0.2)\n",
      "y_dev is 178 rows (0.2)\n",
      "X_test is 90 rows (0.1)\n",
      "y_test is 90 rows (0.1)\n"
     ]
    }
   ],
   "source": [
    "dev_size = 0.2\n",
    "test_size = 0.1\n",
    "MY_SEED = 1 #random.seed()\n",
    "\n",
    "X_train, X_tmp, y_train, y_tmp = train_test_split(X, y, test_size=(dev_size + test_size), random_state = MY_SEED)\n",
    "X_dev, X_test, y_dev, y_test = train_test_split(X_tmp, y_tmp, test_size=(test_size / (dev_size + test_size)), random_state = MY_SEED)\n",
    "\n",
    "print(\"X_train is \" + str(len(X_train)) + \" rows (\" + str(round(len(X_train)/len(X),2)) + \")\")\n",
    "print(\"y_train is \" + str(len(y_train)) + \" rows (\" + str(round(len(y_train)/len(y),2)) + \")\")\n",
    "print(\"X_dev is \" + str(len(X_dev)) + \" rows (\" + str(round(len(X_dev)/len(X),2)) + \")\")\n",
    "print(\"y_dev is \" + str(len(y_dev)) + \" rows (\" + str(round(len(y_dev)/len(y),2)) + \")\")\n",
    "print(\"X_test is \" + str(len(X_test)) + \" rows (\" + str(round(len(X_test)/len(X),2)) + \")\")\n",
    "print(\"y_test is \" + str(len(y_test)) + \" rows (\" + str(round(len(y_test)/len(y),2)) + \")\")"
   ]
  },
  {
   "cell_type": "markdown",
   "metadata": {
    "ExecuteTime": {
     "end_time": "2017-09-07T09:29:13.194356Z",
     "start_time": "2017-09-07T09:29:13.175001Z"
    }
   },
   "source": [
    "## Pipeline"
   ]
  },
  {
   "cell_type": "markdown",
   "metadata": {},
   "source": [
    "### Pipeline: Features"
   ]
  },
  {
   "cell_type": "code",
   "execution_count": 97,
   "metadata": {
    "ExecuteTime": {
     "end_time": "2017-09-08T15:15:27.546617Z",
     "start_time": "2017-09-08T15:15:27.518598Z"
    },
    "collapsed": true,
    "scrolled": true
   },
   "outputs": [],
   "source": [
    "# features\n",
    "df_mapper = DataFrameMapper([\n",
    "    \n",
    "    # Fare\n",
    "    (['Fare'], StandardScaler()),\n",
    "\n",
    "    # Age\n",
    "    (['Age'], [\n",
    "        Imputer(), \n",
    "        StandardScaler()\n",
    "    ]),\n",
    "\n",
    "    # Sex\n",
    "    ('Sex', LabelBinarizer()),\n",
    "    \n",
    "    # Ticket\n",
    "    #('Ticket', [\n",
    "    #    CountVectorizer(), \n",
    "    #    TfidfTransformer()\n",
    "    #]),\n",
    "    \n",
    "    # Name\n",
    "    #('Name', [\n",
    "    #    CountVectorizer(), \n",
    "    #    TfidfTransformer()\n",
    "    #]),\n",
    "    \n",
    "])"
   ]
  },
  {
   "cell_type": "markdown",
   "metadata": {},
   "source": [
    "### Pipeline: Model"
   ]
  },
  {
   "cell_type": "code",
   "execution_count": 98,
   "metadata": {
    "ExecuteTime": {
     "end_time": "2017-09-08T15:15:27.647688Z",
     "start_time": "2017-09-08T15:15:27.552622Z"
    }
   },
   "outputs": [
    {
     "name": "stdout",
     "output_type": "stream",
     "text": [
      "================================================================================\n",
      "'df_mapper'\n",
      "----------------------------------------\n",
      "{'built_default': None,\n",
      " 'built_features': None,\n",
      " 'default': False,\n",
      " 'df_out': False,\n",
      " 'features': [(['Fare'],\n",
      "               StandardScaler(copy=True, with_mean=True, with_std=True)),\n",
      "              (['Age'],\n",
      "               [Imputer(axis=0, copy=True, missing_values='NaN', strategy='mean', verbose=0),\n",
      "                StandardScaler(copy=True, with_mean=True, with_std=True)]),\n",
      "              ('Sex',\n",
      "               LabelBinarizer(neg_label=0, pos_label=1, sparse_output=False))],\n",
      " 'input_df': False,\n",
      " 'sparse': False,\n",
      " 'transformed_names_': []}\n",
      "================================================================================\n",
      "'model'\n",
      "----------------------------------------\n",
      "{'base_estimator': DecisionTreeClassifier(class_weight=None, criterion='gini', max_depth=None,\n",
      "            max_features=None, max_leaf_nodes=None,\n",
      "            min_impurity_split=1e-07, min_samples_leaf=1,\n",
      "            min_samples_split=2, min_weight_fraction_leaf=0.0,\n",
      "            presort=False, random_state=None, splitter='best'),\n",
      " 'bootstrap': True,\n",
      " 'class_weight': None,\n",
      " 'criterion': 'gini',\n",
      " 'estimator_params': ('criterion',\n",
      "                      'max_depth',\n",
      "                      'min_samples_split',\n",
      "                      'min_samples_leaf',\n",
      "                      'min_weight_fraction_leaf',\n",
      "                      'max_features',\n",
      "                      'max_leaf_nodes',\n",
      "                      'min_impurity_split',\n",
      "                      'random_state'),\n",
      " 'estimators_': [],\n",
      " 'max_depth': None,\n",
      " 'max_features': 'auto',\n",
      " 'max_leaf_nodes': None,\n",
      " 'min_impurity_split': 1e-07,\n",
      " 'min_samples_leaf': 1,\n",
      " 'min_samples_split': 2,\n",
      " 'min_weight_fraction_leaf': 0.0,\n",
      " 'n_estimators': 10,\n",
      " 'n_jobs': 1,\n",
      " 'oob_score': False,\n",
      " 'random_state': None,\n",
      " 'verbose': 0,\n",
      " 'warm_start': False}\n"
     ]
    }
   ],
   "source": [
    "# build full pipeline\n",
    "pipeline  = Pipeline([\n",
    "    \n",
    "    # features\n",
    "    ('df_mapper',df_mapper),\n",
    "    \n",
    "    # model\n",
    "    ('model', RandomForestClassifier())\n",
    "])\n",
    "\n",
    "# control to print pipeline info if needed\n",
    "PRINT_PIPELINE_DEF = True\n",
    "if PRINT_PIPELINE_DEF:\n",
    "    # print as much info about the pipeline set up as possible\n",
    "    for i in range(0,len(pipeline.steps)):\n",
    "        print(\"================================================================================\")\n",
    "        pprint(pipeline.steps[i][0])\n",
    "        print(\"----------------------------------------\")\n",
    "        pprint(vars(pipeline.steps[i][1]))"
   ]
  },
  {
   "cell_type": "markdown",
   "metadata": {},
   "source": [
    "## Parameters"
   ]
  },
  {
   "cell_type": "code",
   "execution_count": 99,
   "metadata": {
    "ExecuteTime": {
     "end_time": "2017-09-08T15:15:27.665702Z",
     "start_time": "2017-09-08T15:15:27.653693Z"
    },
    "collapsed": true
   },
   "outputs": [],
   "source": [
    "# control to print params easily available for CV\n",
    "PRINT_PIPELINE_PARAMS = False\n",
    "if PRINT_PIPELINE_PARAMS:\n",
    "    # print full list of params\n",
    "    pprint(pipeline.get_params())"
   ]
  },
  {
   "cell_type": "code",
   "execution_count": 142,
   "metadata": {
    "ExecuteTime": {
     "end_time": "2017-09-08T15:37:52.851200Z",
     "start_time": "2017-09-08T15:37:52.832189Z"
    }
   },
   "outputs": [
    {
     "name": "stdout",
     "output_type": "stream",
     "text": [
      "{'model__n_estimators': [50, 100]}\n"
     ]
    }
   ],
   "source": [
    "# set params\n",
    "parameters = {\n",
    "    #\"model__max_features\": [0, 3],\n",
    "    \"model__n_estimators\": [50, 100]\n",
    "}\n",
    "pprint(parameters)"
   ]
  },
  {
   "cell_type": "markdown",
   "metadata": {},
   "source": [
    "## Fit Pipeline"
   ]
  },
  {
   "cell_type": "code",
   "execution_count": 143,
   "metadata": {
    "ExecuteTime": {
     "end_time": "2017-09-08T15:38:00.973962Z",
     "start_time": "2017-09-08T15:37:52.872216Z"
    }
   },
   "outputs": [
    {
     "name": "stdout",
     "output_type": "stream",
     "text": [
      "Performing grid search...\n",
      "pipeline: ['df_mapper', 'model']\n",
      "parameters:\n",
      "{'model__n_estimators': [50, 100]}\n",
      "Fitting 3 folds for each of 2 candidates, totalling 6 fits\n"
     ]
    },
    {
     "name": "stderr",
     "output_type": "stream",
     "text": [
      "[Parallel(n_jobs=-1)]: Done   6 out of   6 | elapsed:    6.9s remaining:    0.0s\n",
      "[Parallel(n_jobs=-1)]: Done   6 out of   6 | elapsed:    7.0s finished\n"
     ]
    },
    {
     "name": "stdout",
     "output_type": "stream",
     "text": [
      "done in 8.032s\n",
      "\n",
      "Best score: 0.782\n",
      "Best parameters set:\n",
      "\tmodel__n_estimators: 50\n"
     ]
    }
   ],
   "source": [
    "if __name__ == \"__main__\":\n",
    "    # multiprocessing requires the fork to happen in a __main__ protected\n",
    "    # block\n",
    "\n",
    "    # find the best parameters for both the feature extraction and the\n",
    "    # classifier\n",
    "    model = GridSearchCV(pipeline, parameters, n_jobs=-1, verbose=1)\n",
    "\n",
    "    print(\"Performing grid search...\")\n",
    "    print(\"pipeline:\", [name for name, _ in pipeline.steps])\n",
    "    print(\"parameters:\")\n",
    "    pprint(parameters)\n",
    "    t0 = time()\n",
    "    model.fit(X_train, y_train['target'])\n",
    "    print(\"done in %0.3fs\" % (time() - t0))\n",
    "    print()\n",
    "\n",
    "    print(\"Best score: %0.3f\" % model.best_score_)\n",
    "    print(\"Best parameters set:\")\n",
    "    best_parameters = model.best_estimator_.get_params()\n",
    "    for param_name in sorted(parameters.keys()):\n",
    "        print(\"\\t%s: %r\" % (param_name, best_parameters[param_name]))"
   ]
  },
  {
   "cell_type": "markdown",
   "metadata": {},
   "source": [
    "## Predictions"
   ]
  },
  {
   "cell_type": "code",
   "execution_count": 144,
   "metadata": {
    "ExecuteTime": {
     "end_time": "2017-09-08T15:38:01.003983Z",
     "start_time": "2017-09-08T15:38:00.980966Z"
    }
   },
   "outputs": [
    {
     "name": "stdout",
     "output_type": "stream",
     "text": [
      "0    396\n",
      "1    227\n",
      "Name: target, dtype: int64\n",
      "0    0.635634\n",
      "1    0.364366\n",
      "Name: target, dtype: float64\n"
     ]
    }
   ],
   "source": [
    "target_counts = y_train.target.value_counts()\n",
    "target_len = len(y_train.target)\n",
    "target_rates = target_counts/target_len\n",
    "print(target_counts)\n",
    "print(target_rates)"
   ]
  },
  {
   "cell_type": "markdown",
   "metadata": {},
   "source": [
    "### Predictions: Probabilities"
   ]
  },
  {
   "cell_type": "code",
   "execution_count": 145,
   "metadata": {
    "ExecuteTime": {
     "end_time": "2017-09-08T15:38:02.345937Z",
     "start_time": "2017-09-08T15:38:01.010987Z"
    }
   },
   "outputs": [
    {
     "name": "stdout",
     "output_type": "stream",
     "text": [
      "(623, 2)\n",
      "(178, 2)\n",
      "(90, 2)\n"
     ]
    },
    {
     "data": {
      "text/plain": [
       "<matplotlib.axes._subplots.AxesSubplot at 0x23fcdee75c0>"
      ]
     },
     "execution_count": 145,
     "metadata": {},
     "output_type": "execute_result"
    },
    {
     "data": {
      "image/png": "[encoded data removed]",
      "text/plain": [
       "<matplotlib.figure.Figure at 0x23fcebf6be0>"
      ]
     },
     "metadata": {},
     "output_type": "display_data"
    },
    {
     "data": {
      "image/png": "[encoded data removed]",
      "text/plain": [
       "<matplotlib.figure.Figure at 0x23fcdf0c828>"
      ]
     },
     "metadata": {},
     "output_type": "display_data"
    }
   ],
   "source": [
    "# get probs\n",
    "y_train_pred_probs = pd.DataFrame(model.predict_proba(X_train), columns=model.best_estimator_.classes_)\n",
    "y_dev_pred_probs = pd.DataFrame(model.predict_proba(X_dev), columns=model.best_estimator_.classes_)\n",
    "y_test_pred_probs = pd.DataFrame(model.predict_proba(X_test), columns=model.best_estimator_.classes_)\n",
    "\n",
    "print(y_train_pred_probs.shape)\n",
    "print(y_dev_pred_probs.shape)\n",
    "print(y_test_pred_probs.shape)\n",
    "\n",
    "# plot train probs\n",
    "train_probs_plot = y_train_pred_probs.plot.hist(x=0)\n",
    "train_probs_plot.set_title('Train Probs Hist')\n",
    "train_probs_plot\n",
    "\n",
    "# plot dev probs\n",
    "dev_probs_plot = y_dev_pred_probs.plot.hist(x=0)\n",
    "dev_probs_plot.set_title('Dev Probs Hist')\n",
    "dev_probs_plot"
   ]
  },
  {
   "cell_type": "markdown",
   "metadata": {},
   "source": [
    "### Predictions: Classes (Model)"
   ]
  },
  {
   "cell_type": "code",
   "execution_count": 146,
   "metadata": {
    "ExecuteTime": {
     "end_time": "2017-09-08T15:38:02.466019Z",
     "start_time": "2017-09-08T15:38:02.350940Z"
    }
   },
   "outputs": [
    {
     "name": "stdout",
     "output_type": "stream",
     "text": [
      "(623,)\n",
      "(178,)\n",
      "(90,)\n"
     ]
    }
   ],
   "source": [
    "# get preds\n",
    "y_train_pred = model.predict(X_train)\n",
    "y_dev_pred = model.predict(X_dev)\n",
    "y_test_pred = model.predict(X_test)\n",
    "\n",
    "print(y_train_pred.shape)\n",
    "print(y_dev_pred.shape)\n",
    "print(y_test_pred.shape)"
   ]
  },
  {
   "cell_type": "markdown",
   "metadata": {},
   "source": [
    "### Predictions: Classes (Threshold)"
   ]
  },
  {
   "cell_type": "code",
   "execution_count": 147,
   "metadata": {
    "ExecuteTime": {
     "end_time": "2017-09-08T15:38:02.494040Z",
     "start_time": "2017-09-08T15:38:02.471022Z"
    }
   },
   "outputs": [
    {
     "name": "stdout",
     "output_type": "stream",
     "text": [
      "(623, 2)\n",
      "(178, 2)\n",
      "(90, 2)\n"
     ]
    }
   ],
   "source": [
    "# get predictions based on thresholds from training data\n",
    "y_train_pred_thold = y_train_pred_probs >= target_rates\n",
    "y_dev_pred_thold = y_dev_pred_probs >= target_rates\n",
    "y_test_pred_thold = y_test_pred_probs >= target_rates\n",
    "\n",
    "print(y_train_pred_thold.shape)\n",
    "print(y_dev_pred_thold.shape)\n",
    "print(y_test_pred_thold.shape)"
   ]
  },
  {
   "cell_type": "markdown",
   "metadata": {},
   "source": [
    "### Predcitions: Classes (Manual)"
   ]
  },
  {
   "cell_type": "code",
   "execution_count": 148,
   "metadata": {
    "ExecuteTime": {
     "end_time": "2017-09-08T15:38:02.535068Z",
     "start_time": "2017-09-08T15:38:02.500046Z"
    }
   },
   "outputs": [
    {
     "name": "stdout",
     "output_type": "stream",
     "text": [
      "(623,)\n",
      "(178,)\n",
      "(90,)\n"
     ]
    }
   ],
   "source": [
    "# set a manual threshold for predicting a 1\n",
    "THOLD_MANUAL = 0.5\n",
    "\n",
    "y_train_pred_thold_man = (y_train_pred_probs[1] >= THOLD_MANUAL).astype(int)\n",
    "y_dev_pred_thold_man = (y_dev_pred_probs[1] >= THOLD_MANUAL).astype(int)\n",
    "y_test_pred_thold_man = (y_test_pred_probs[1] >= THOLD_MANUAL).astype(int)\n",
    "\n",
    "print(y_train_pred_thold_man.shape)\n",
    "print(y_dev_pred_thold_man.shape)\n",
    "print(y_test_pred_thold_man.shape)"
   ]
  },
  {
   "cell_type": "markdown",
   "metadata": {},
   "source": [
    "### Predicitons: Classes (Random)"
   ]
  },
  {
   "cell_type": "code",
   "execution_count": 149,
   "metadata": {
    "ExecuteTime": {
     "end_time": "2017-09-08T15:38:02.571093Z",
     "start_time": "2017-09-08T15:38:02.542072Z"
    }
   },
   "outputs": [
    {
     "name": "stdout",
     "output_type": "stream",
     "text": [
      "(623,)\n",
      "(178,)\n",
      "(90,)\n"
     ]
    }
   ],
   "source": [
    "rand_y_train_pred = y_train.target.sample(n=len(y_train))\n",
    "rand_y_dev_pred = y_dev.target.sample(n=len(y_dev))\n",
    "rand_y_test_pred = y_test.target.sample(n=len(y_test))\n",
    "\n",
    "print(rand_y_train_pred.shape)\n",
    "print(rand_y_dev_pred.shape)\n",
    "print(rand_y_test_pred.shape)"
   ]
  },
  {
   "cell_type": "markdown",
   "metadata": {},
   "source": [
    "## Feature Importance"
   ]
  },
  {
   "cell_type": "code",
   "execution_count": 150,
   "metadata": {
    "ExecuteTime": {
     "end_time": "2017-09-08T15:38:03.176526Z",
     "start_time": "2017-09-08T15:38:02.581100Z"
    }
   },
   "outputs": [
    {
     "data": {
      "text/plain": [
       "<matplotlib.axes._subplots.AxesSubplot at 0x23fcdefbcf8>"
      ]
     },
     "execution_count": 150,
     "metadata": {},
     "output_type": "execute_result"
    },
    {
     "data": {
      "image/png": "[encoded data removed]",
      "text/plain": [
       "<matplotlib.figure.Figure at 0x23fc4c334e0>"
      ]
     },
     "metadata": {},
     "output_type": "display_data"
    }
   ],
   "source": [
    "# get feature importances from best estimator\n",
    "feature_names = model.best_estimator_.named_steps[\"df_mapper\"].transformed_names_\n",
    "feature_importance = model.best_estimator_.named_steps[\"model\"].feature_importances_\n",
    "\n",
    "# create a df\n",
    "df_feature_importance = pd.DataFrame(list(zip(feature_names,feature_importance)),columns=['feature_name','feature_importance'])             \n",
    "df_feature_importance = df_feature_importance.sort_values(by='feature_importance', ascending=False)\n",
    "\n",
    "# plot most important features\n",
    "df_feature_importance.head(20).plot.bar(x='feature_name',y='feature_importance')"
   ]
  },
  {
   "cell_type": "markdown",
   "metadata": {
    "ExecuteTime": {
     "end_time": "2017-09-07T12:14:53.223144Z",
     "start_time": "2017-09-07T12:14:53.209137Z"
    }
   },
   "source": [
    "## Performance"
   ]
  },
  {
   "cell_type": "code",
   "execution_count": 151,
   "metadata": {
    "ExecuteTime": {
     "end_time": "2017-09-08T15:38:03.319646Z",
     "start_time": "2017-09-08T15:38:03.182528Z"
    }
   },
   "outputs": [
    {
     "name": "stdout",
     "output_type": "stream",
     "text": [
      "             precision    recall  f1-score   support\n",
      "\n",
      "          0       0.89      0.74      0.81       121\n",
      "          1       0.59      0.81      0.68        57\n",
      "\n",
      "avg / total       0.79      0.76      0.77       178\n",
      "\n"
     ]
    }
   ],
   "source": [
    "print(classification_report(y_dev_pred, y_dev))\n",
    "\n",
    "# make some confusion matrices\n",
    "rand_cm = ConfusionMatrix(np.array(y_dev.target), np.array(rand_y_dev_pred))\n",
    "cm = ConfusionMatrix(np.array(y_dev.target), np.array(y_dev_pred))\n",
    "cm_thold = ConfusionMatrix(np.array(y_dev.target), np.array(y_dev_pred_thold[1].astype(int)))\n",
    "cm_thold_man = ConfusionMatrix(np.array(y_dev.target), np.array(y_dev_pred_thold_man))"
   ]
  },
  {
   "cell_type": "markdown",
   "metadata": {},
   "source": [
    "### Performance: Summary"
   ]
  },
  {
   "cell_type": "code",
   "execution_count": 152,
   "metadata": {
    "ExecuteTime": {
     "end_time": "2017-09-08T15:38:03.814979Z",
     "start_time": "2017-09-08T15:38:03.324627Z"
    }
   },
   "outputs": [
    {
     "data": {
      "text/html": [
       "<div>\n",
       "<style>\n",
       "    .dataframe thead tr:only-child th {\n",
       "        text-align: right;\n",
       "    }\n",
       "\n",
       "    .dataframe thead th {\n",
       "        text-align: left;\n",
       "    }\n",
       "\n",
       "    .dataframe tbody tr th {\n",
       "        vertical-align: top;\n",
       "    }\n",
       "</style>\n",
       "<table border=\"1\" class=\"dataframe\">\n",
       "  <thead>\n",
       "    <tr style=\"text-align: right;\">\n",
       "      <th>Classes</th>\n",
       "      <th>RAND</th>\n",
       "      <th>MODEL</th>\n",
       "      <th>THOLD</th>\n",
       "      <th>MANUAL</th>\n",
       "    </tr>\n",
       "  </thead>\n",
       "  <tbody>\n",
       "    <tr>\n",
       "      <th>precision</th>\n",
       "      <td>0.494382</td>\n",
       "      <td>0.76686</td>\n",
       "      <td>0.729691</td>\n",
       "      <td>0.76953</td>\n",
       "    </tr>\n",
       "    <tr>\n",
       "      <th>recall</th>\n",
       "      <td>0.494382</td>\n",
       "      <td>0.758427</td>\n",
       "      <td>0.730337</td>\n",
       "      <td>0.764045</td>\n",
       "    </tr>\n",
       "    <tr>\n",
       "      <th>F1_score</th>\n",
       "      <td>0.494382</td>\n",
       "      <td>0.751115</td>\n",
       "      <td>0.729921</td>\n",
       "      <td>0.758398</td>\n",
       "    </tr>\n",
       "    <tr>\n",
       "      <th>support</th>\n",
       "      <td>178</td>\n",
       "      <td>178</td>\n",
       "      <td>178</td>\n",
       "      <td>178</td>\n",
       "    </tr>\n",
       "  </tbody>\n",
       "</table>\n",
       "</div>"
      ],
      "text/plain": [
       "Classes        RAND     MODEL     THOLD    MANUAL\n",
       "precision  0.494382   0.76686  0.729691   0.76953\n",
       "recall     0.494382  0.758427  0.730337  0.764045\n",
       "F1_score   0.494382  0.751115  0.729921  0.758398\n",
       "support         178       178       178       178"
      ]
     },
     "execution_count": 152,
     "metadata": {},
     "output_type": "execute_result"
    }
   ],
   "source": [
    "df_rand_cm_overall = rand_cm.classification_report.transpose()[['__avg / total__']]\n",
    "df_rand_cm_overall = df_rand_cm_overall.rename(columns={\"__avg / total__\": \"RAND\"})\n",
    "\n",
    "df_cm_overall = cm.classification_report.transpose()[['__avg / total__']]\n",
    "df_cm_overall = df_cm_overall.rename(columns={\"__avg / total__\": \"MODEL\"})\n",
    "\n",
    "df_cm_thold_overall = cm_thold.classification_report.transpose()[['__avg / total__']]\n",
    "df_cm_thold_overall = df_cm_thold_overall.rename(columns={\"__avg / total__\": \"THOLD\"})\n",
    "\n",
    "df_cm_thold_man_overall = cm_thold_man.classification_report.transpose()[['__avg / total__']]\n",
    "df_cm_thold_man_overall = df_cm_thold_man_overall.rename(columns={\"__avg / total__\": \"MANUAL\"})\n",
    "\n",
    "# concat all the df's into one\n",
    "df_cm_overall_all = pd.concat([df_rand_cm_overall, df_cm_overall, df_cm_thold_overall, df_cm_thold_man_overall],axis=1)\n",
    "df_cm_overall_all"
   ]
  },
  {
   "cell_type": "markdown",
   "metadata": {},
   "source": [
    "### Performance: Confusion Matrix"
   ]
  },
  {
   "cell_type": "code",
   "execution_count": 153,
   "metadata": {
    "ExecuteTime": {
     "end_time": "2017-09-08T15:38:06.927185Z",
     "start_time": "2017-09-08T15:38:03.820980Z"
    },
    "scrolled": true
   },
   "outputs": [
    {
     "name": "stdout",
     "output_type": "stream",
     "text": [
      "==================================\n",
      "RAND\n",
      "==================================\n"
     ]
    },
    {
     "data": {
      "image/png": "[encoded data removed]",
      "text/plain": [
       "<matplotlib.figure.Figure at 0x23fc72d0518>"
      ]
     },
     "metadata": {},
     "output_type": "display_data"
    },
    {
     "name": "stdout",
     "output_type": "stream",
     "text": [
      "==================================\n",
      "MODEL\n",
      "==================================\n"
     ]
    },
    {
     "data": {
      "image/png": "[encoded data removed]",
      "text/plain": [
       "<matplotlib.figure.Figure at 0x23fc71fab38>"
      ]
     },
     "metadata": {},
     "output_type": "display_data"
    },
    {
     "name": "stdout",
     "output_type": "stream",
     "text": [
      "==================================\n",
      "THOLD\n",
      "==================================\n"
     ]
    },
    {
     "data": {
      "image/png": "[encoded data removed]",
      "text/plain": [
       "<matplotlib.figure.Figure at 0x23fc72b2c50>"
      ]
     },
     "metadata": {},
     "output_type": "display_data"
    },
    {
     "name": "stdout",
     "output_type": "stream",
     "text": [
      "==================================\n",
      "MANUAL\n",
      "==================================\n"
     ]
    },
    {
     "data": {
      "image/png": "[encoded data removed]",
      "text/plain": [
       "<matplotlib.figure.Figure at 0x23fce279128>"
      ]
     },
     "metadata": {},
     "output_type": "display_data"
    }
   ],
   "source": [
    "def show_confusion_matrix(C,class_labels=['0','1']):\n",
    "    \"\"\"\n",
    "    Stolen from: http://notmatthancock.github.io/2015/10/28/confusion-matrix.html\n",
    "    \n",
    "    C: ndarray, shape (2,2) as given by scikit-learn confusion_matrix function\n",
    "    class_labels: list of strings, default simply labels 0 and 1.\n",
    "\n",
    "    Draws confusion matrix with associated metrics.\n",
    "    \"\"\"\n",
    "    import matplotlib.pyplot as plt\n",
    "    import numpy as np\n",
    "    \n",
    "    assert C.shape == (2,2), \"Confusion matrix should be from binary classification only.\"\n",
    "    \n",
    "    # true negative, false positive, etc...\n",
    "    tn = C[0,0]; fp = C[0,1]; fn = C[1,0]; tp = C[1,1];\n",
    "\n",
    "    NP = fn+tp # Num positive examples\n",
    "    NN = tn+fp # Num negative examples\n",
    "    N  = NP+NN\n",
    "\n",
    "    fig = plt.figure(figsize=(8,8))\n",
    "    ax  = fig.add_subplot(111)\n",
    "    ax.imshow(C, interpolation='nearest', cmap=plt.cm.gray)\n",
    "\n",
    "    # Draw the grid boxes\n",
    "    ax.set_xlim(-0.5,2.5)\n",
    "    ax.set_ylim(2.5,-0.5)\n",
    "    ax.plot([-0.5,2.5],[0.5,0.5], '-k', lw=2)\n",
    "    ax.plot([-0.5,2.5],[1.5,1.5], '-k', lw=2)\n",
    "    ax.plot([0.5,0.5],[-0.5,2.5], '-k', lw=2)\n",
    "    ax.plot([1.5,1.5],[-0.5,2.5], '-k', lw=2)\n",
    "\n",
    "    # Set xlabels\n",
    "    ax.set_xlabel('Predicted Label', fontsize=16)\n",
    "    ax.set_xticks([0,1,2])\n",
    "    ax.set_xticklabels(class_labels + [''])\n",
    "    ax.xaxis.set_label_position('top')\n",
    "    ax.xaxis.tick_top()\n",
    "    # These coordinate might require some tinkering. Ditto for y, below.\n",
    "    ax.xaxis.set_label_coords(0.34,1.06)\n",
    "\n",
    "    # Set ylabels\n",
    "    ax.set_ylabel('True Label', fontsize=16, rotation=90)\n",
    "    ax.set_yticklabels(class_labels + [''],rotation=90)\n",
    "    ax.set_yticks([0,1,2])\n",
    "    ax.yaxis.set_label_coords(-0.09,0.65)\n",
    "\n",
    "\n",
    "    # Fill in initial metrics: tp, tn, etc...\n",
    "    ax.text(0,0,\n",
    "            'True Neg: %d\\n(Num Neg: %d)'%(tn,NN),\n",
    "            va='center',\n",
    "            ha='center',\n",
    "            bbox=dict(fc='w',boxstyle='round,pad=1'))\n",
    "\n",
    "    ax.text(0,1,\n",
    "            'False Neg: %d'%fn,\n",
    "            va='center',\n",
    "            ha='center',\n",
    "            bbox=dict(fc='w',boxstyle='round,pad=1'))\n",
    "\n",
    "    ax.text(1,0,\n",
    "            'False Pos: %d'%fp,\n",
    "            va='center',\n",
    "            ha='center',\n",
    "            bbox=dict(fc='w',boxstyle='round,pad=1'))\n",
    "\n",
    "\n",
    "    ax.text(1,1,\n",
    "            'True Pos: %d\\n(Num Pos: %d)'%(tp,NP),\n",
    "            va='center',\n",
    "            ha='center',\n",
    "            bbox=dict(fc='w',boxstyle='round,pad=1'))\n",
    "\n",
    "    # Fill in secondary metrics: accuracy, true pos rate, etc...\n",
    "    ax.text(2,0,\n",
    "            'False Pos Rate: %.2f'%(fp / (fp+tn+0.)),\n",
    "            va='center',\n",
    "            ha='center',\n",
    "            bbox=dict(fc='w',boxstyle='round,pad=1'))\n",
    "\n",
    "    ax.text(2,1,\n",
    "            'True Pos Rate: %.2f'%(tp / (tp+fn+0.)),\n",
    "            va='center',\n",
    "            ha='center',\n",
    "            bbox=dict(fc='w',boxstyle='round,pad=1'))\n",
    "\n",
    "    ax.text(2,2,\n",
    "            'Accuracy: %.2f'%((tp+tn+0.)/N),\n",
    "            va='center',\n",
    "            ha='center',\n",
    "            bbox=dict(fc='w',boxstyle='round,pad=1'))\n",
    "\n",
    "    ax.text(0,2,\n",
    "            'Neg Pre Val: %.2f'%(1-fn/(fn+tn+0.)),\n",
    "            va='center',\n",
    "            ha='center',\n",
    "            bbox=dict(fc='w',boxstyle='round,pad=1'))\n",
    "\n",
    "    ax.text(1,2,\n",
    "            'Pos Pred Val: %.2f'%(tp/(tp+fp+0.)),\n",
    "            va='center',\n",
    "            ha='center',\n",
    "            bbox=dict(fc='w',boxstyle='round,pad=1'))\n",
    "\n",
    "\n",
    "    plt.tight_layout()\n",
    "    plt.show()\n",
    "\n",
    "for label, y_true, y_pred in [('RAND', y_dev, rand_y_dev_pred),\n",
    "                              ('MODEL', y_dev, y_dev_pred),\n",
    "                              ('THOLD', y_dev, y_dev_pred_thold[1]), \n",
    "                              ('MANUAL', y_dev, y_dev_pred_thold_man)\n",
    "                             ]:\n",
    "    print(\"==================================\")\n",
    "    print(label)\n",
    "    print(\"==================================\")\n",
    "    C = confusion_matrix(y_true,y_pred)\n",
    "    show_confusion_matrix(C, list(model.best_estimator_.classes_))"
   ]
  },
  {
   "cell_type": "code",
   "execution_count": null,
   "metadata": {
    "ExecuteTime": {
     "start_time": "2017-09-08T15:37:53.078Z"
    },
    "scrolled": true
   },
   "outputs": [
    {
     "data": {
      "text/html": [
       "<div>\n",
       "<style>\n",
       "    .dataframe thead tr:only-child th {\n",
       "        text-align: right;\n",
       "    }\n",
       "\n",
       "    .dataframe thead th {\n",
       "        text-align: left;\n",
       "    }\n",
       "\n",
       "    .dataframe tbody tr th {\n",
       "        vertical-align: top;\n",
       "    }\n",
       "</style>\n",
       "<table border=\"1\" class=\"dataframe\">\n",
       "  <thead>\n",
       "    <tr style=\"text-align: right;\">\n",
       "      <th></th>\n",
       "      <th>0_RAND</th>\n",
       "      <th>1_RAND</th>\n",
       "      <th>0_MODEL</th>\n",
       "      <th>1_MODEL</th>\n",
       "      <th>0_THOLD</th>\n",
       "      <th>1_THOLD</th>\n",
       "      <th>0_MANUAL</th>\n",
       "      <th>1_MANUAL</th>\n",
       "    </tr>\n",
       "  </thead>\n",
       "  <tbody>\n",
       "    <tr>\n",
       "      <th>Population</th>\n",
       "      <td>178</td>\n",
       "      <td>178</td>\n",
       "      <td>178</td>\n",
       "      <td>178</td>\n",
       "      <td>178</td>\n",
       "      <td>178</td>\n",
       "      <td>178</td>\n",
       "      <td>178</td>\n",
       "    </tr>\n",
       "    <tr>\n",
       "      <th>P: Condition positive</th>\n",
       "      <td>100</td>\n",
       "      <td>78</td>\n",
       "      <td>100</td>\n",
       "      <td>78</td>\n",
       "      <td>100</td>\n",
       "      <td>78</td>\n",
       "      <td>100</td>\n",
       "      <td>78</td>\n",
       "    </tr>\n",
       "    <tr>\n",
       "      <th>N: Condition negative</th>\n",
       "      <td>78</td>\n",
       "      <td>100</td>\n",
       "      <td>78</td>\n",
       "      <td>100</td>\n",
       "      <td>78</td>\n",
       "      <td>100</td>\n",
       "      <td>78</td>\n",
       "      <td>100</td>\n",
       "    </tr>\n",
       "    <tr>\n",
       "      <th>Test outcome positive</th>\n",
       "      <td>100</td>\n",
       "      <td>78</td>\n",
       "      <td>121</td>\n",
       "      <td>57</td>\n",
       "      <td>102</td>\n",
       "      <td>76</td>\n",
       "      <td>118</td>\n",
       "      <td>60</td>\n",
       "    </tr>\n",
       "    <tr>\n",
       "      <th>Test outcome negative</th>\n",
       "      <td>78</td>\n",
       "      <td>100</td>\n",
       "      <td>57</td>\n",
       "      <td>121</td>\n",
       "      <td>76</td>\n",
       "      <td>102</td>\n",
       "      <td>60</td>\n",
       "      <td>118</td>\n",
       "    </tr>\n",
       "    <tr>\n",
       "      <th>TP: True Positive</th>\n",
       "      <td>55</td>\n",
       "      <td>33</td>\n",
       "      <td>89</td>\n",
       "      <td>46</td>\n",
       "      <td>77</td>\n",
       "      <td>53</td>\n",
       "      <td>88</td>\n",
       "      <td>48</td>\n",
       "    </tr>\n",
       "    <tr>\n",
       "      <th>TN: True Negative</th>\n",
       "      <td>33</td>\n",
       "      <td>55</td>\n",
       "      <td>46</td>\n",
       "      <td>89</td>\n",
       "      <td>53</td>\n",
       "      <td>77</td>\n",
       "      <td>48</td>\n",
       "      <td>88</td>\n",
       "    </tr>\n",
       "    <tr>\n",
       "      <th>FP: False Positive</th>\n",
       "      <td>45</td>\n",
       "      <td>45</td>\n",
       "      <td>32</td>\n",
       "      <td>11</td>\n",
       "      <td>25</td>\n",
       "      <td>23</td>\n",
       "      <td>30</td>\n",
       "      <td>12</td>\n",
       "    </tr>\n",
       "    <tr>\n",
       "      <th>FN: False Negative</th>\n",
       "      <td>45</td>\n",
       "      <td>45</td>\n",
       "      <td>11</td>\n",
       "      <td>32</td>\n",
       "      <td>23</td>\n",
       "      <td>25</td>\n",
       "      <td>12</td>\n",
       "      <td>30</td>\n",
       "    </tr>\n",
       "    <tr>\n",
       "      <th>TPR: (Sensitivity, hit rate, recall)</th>\n",
       "      <td>0.55</td>\n",
       "      <td>0.423077</td>\n",
       "      <td>0.89</td>\n",
       "      <td>0.589744</td>\n",
       "      <td>0.77</td>\n",
       "      <td>0.679487</td>\n",
       "      <td>0.88</td>\n",
       "      <td>0.615385</td>\n",
       "    </tr>\n",
       "    <tr>\n",
       "      <th>TNR=SPC: (Specificity)</th>\n",
       "      <td>0.423077</td>\n",
       "      <td>0.55</td>\n",
       "      <td>0.589744</td>\n",
       "      <td>0.89</td>\n",
       "      <td>0.679487</td>\n",
       "      <td>0.77</td>\n",
       "      <td>0.615385</td>\n",
       "      <td>0.88</td>\n",
       "    </tr>\n",
       "    <tr>\n",
       "      <th>PPV: Pos Pred Value (Precision)</th>\n",
       "      <td>0.55</td>\n",
       "      <td>0.423077</td>\n",
       "      <td>0.735537</td>\n",
       "      <td>0.807018</td>\n",
       "      <td>0.754902</td>\n",
       "      <td>0.697368</td>\n",
       "      <td>0.745763</td>\n",
       "      <td>0.8</td>\n",
       "    </tr>\n",
       "    <tr>\n",
       "      <th>NPV: Neg Pred Value</th>\n",
       "      <td>0.423077</td>\n",
       "      <td>0.55</td>\n",
       "      <td>0.807018</td>\n",
       "      <td>0.735537</td>\n",
       "      <td>0.697368</td>\n",
       "      <td>0.754902</td>\n",
       "      <td>0.8</td>\n",
       "      <td>0.745763</td>\n",
       "    </tr>\n",
       "    <tr>\n",
       "      <th>FPR: False-out</th>\n",
       "      <td>0.576923</td>\n",
       "      <td>0.45</td>\n",
       "      <td>0.410256</td>\n",
       "      <td>0.11</td>\n",
       "      <td>0.320513</td>\n",
       "      <td>0.23</td>\n",
       "      <td>0.384615</td>\n",
       "      <td>0.12</td>\n",
       "    </tr>\n",
       "    <tr>\n",
       "      <th>FDR: False Discovery Rate</th>\n",
       "      <td>0.45</td>\n",
       "      <td>0.576923</td>\n",
       "      <td>0.264463</td>\n",
       "      <td>0.192982</td>\n",
       "      <td>0.245098</td>\n",
       "      <td>0.302632</td>\n",
       "      <td>0.254237</td>\n",
       "      <td>0.2</td>\n",
       "    </tr>\n",
       "    <tr>\n",
       "      <th>FNR: Miss Rate</th>\n",
       "      <td>0.45</td>\n",
       "      <td>0.576923</td>\n",
       "      <td>0.11</td>\n",
       "      <td>0.410256</td>\n",
       "      <td>0.23</td>\n",
       "      <td>0.320513</td>\n",
       "      <td>0.12</td>\n",
       "      <td>0.384615</td>\n",
       "    </tr>\n",
       "    <tr>\n",
       "      <th>ACC: Accuracy</th>\n",
       "      <td>0.494382</td>\n",
       "      <td>0.494382</td>\n",
       "      <td>0.758427</td>\n",
       "      <td>0.758427</td>\n",
       "      <td>0.730337</td>\n",
       "      <td>0.730337</td>\n",
       "      <td>0.764045</td>\n",
       "      <td>0.764045</td>\n",
       "    </tr>\n",
       "    <tr>\n",
       "      <th>F1 score</th>\n",
       "      <td>0.55</td>\n",
       "      <td>0.423077</td>\n",
       "      <td>0.80543</td>\n",
       "      <td>0.681481</td>\n",
       "      <td>0.762376</td>\n",
       "      <td>0.688312</td>\n",
       "      <td>0.807339</td>\n",
       "      <td>0.695652</td>\n",
       "    </tr>\n",
       "    <tr>\n",
       "      <th>MCC: Matthews correlation coefficient</th>\n",
       "      <td>-0.0269231</td>\n",
       "      <td>-0.0269231</td>\n",
       "      <td>0.510183</td>\n",
       "      <td>0.510183</td>\n",
       "      <td>0.450877</td>\n",
       "      <td>0.450877</td>\n",
       "      <td>0.519964</td>\n",
       "      <td>0.519964</td>\n",
       "    </tr>\n",
       "    <tr>\n",
       "      <th>Informedness</th>\n",
       "      <td>-0.0269231</td>\n",
       "      <td>-0.0269231</td>\n",
       "      <td>0.479744</td>\n",
       "      <td>0.479744</td>\n",
       "      <td>0.449487</td>\n",
       "      <td>0.449487</td>\n",
       "      <td>0.495385</td>\n",
       "      <td>0.495385</td>\n",
       "    </tr>\n",
       "    <tr>\n",
       "      <th>Markedness</th>\n",
       "      <td>-0.0269231</td>\n",
       "      <td>-0.0269231</td>\n",
       "      <td>0.542555</td>\n",
       "      <td>0.542555</td>\n",
       "      <td>0.45227</td>\n",
       "      <td>0.45227</td>\n",
       "      <td>0.545763</td>\n",
       "      <td>0.545763</td>\n",
       "    </tr>\n",
       "    <tr>\n",
       "      <th>Prevalence</th>\n",
       "      <td>0.561798</td>\n",
       "      <td>0.438202</td>\n",
       "      <td>0.561798</td>\n",
       "      <td>0.438202</td>\n",
       "      <td>0.561798</td>\n",
       "      <td>0.438202</td>\n",
       "      <td>0.561798</td>\n",
       "      <td>0.438202</td>\n",
       "    </tr>\n",
       "    <tr>\n",
       "      <th>LR+: Positive likelihood ratio</th>\n",
       "      <td>0.953333</td>\n",
       "      <td>0.940171</td>\n",
       "      <td>2.16938</td>\n",
       "      <td>5.36131</td>\n",
       "      <td>2.4024</td>\n",
       "      <td>2.95429</td>\n",
       "      <td>2.288</td>\n",
       "      <td>5.12821</td>\n",
       "    </tr>\n",
       "    <tr>\n",
       "      <th>LR-: Negative likelihood ratio</th>\n",
       "      <td>1.06364</td>\n",
       "      <td>1.04895</td>\n",
       "      <td>0.186522</td>\n",
       "      <td>0.460962</td>\n",
       "      <td>0.338491</td>\n",
       "      <td>0.41625</td>\n",
       "      <td>0.195</td>\n",
       "      <td>0.437063</td>\n",
       "    </tr>\n",
       "    <tr>\n",
       "      <th>DOR: Diagnostic odds ratio</th>\n",
       "      <td>0.896296</td>\n",
       "      <td>0.896296</td>\n",
       "      <td>11.6307</td>\n",
       "      <td>11.6307</td>\n",
       "      <td>7.09739</td>\n",
       "      <td>7.09739</td>\n",
       "      <td>11.7333</td>\n",
       "      <td>11.7333</td>\n",
       "    </tr>\n",
       "    <tr>\n",
       "      <th>FOR: False omission rate</th>\n",
       "      <td>0.576923</td>\n",
       "      <td>0.45</td>\n",
       "      <td>0.192982</td>\n",
       "      <td>0.264463</td>\n",
       "      <td>0.302632</td>\n",
       "      <td>0.245098</td>\n",
       "      <td>0.2</td>\n",
       "      <td>0.254237</td>\n",
       "    </tr>\n",
       "    <tr>\n",
       "      <th>Accuracy</th>\n",
       "      <td>0.494382</td>\n",
       "      <td>0.494382</td>\n",
       "      <td>0.758427</td>\n",
       "      <td>0.758427</td>\n",
       "      <td>0.730337</td>\n",
       "      <td>0.730337</td>\n",
       "      <td>0.764045</td>\n",
       "      <td>0.764045</td>\n",
       "    </tr>\n",
       "    <tr>\n",
       "      <th>95% CI</th>\n",
       "      <td>0.418762</td>\n",
       "      <td>0.570192</td>\n",
       "      <td>0.688718</td>\n",
       "      <td>0.81932</td>\n",
       "      <td>0.658836</td>\n",
       "      <td>0.793996</td>\n",
       "      <td>0.694736</td>\n",
       "      <td>0.824343</td>\n",
       "    </tr>\n",
       "    <tr>\n",
       "      <th>No Information Rate</th>\n",
       "      <td>ToDo</td>\n",
       "      <td>ToDo</td>\n",
       "      <td>ToDo</td>\n",
       "      <td>ToDo</td>\n",
       "      <td>ToDo</td>\n",
       "      <td>ToDo</td>\n",
       "      <td>ToDo</td>\n",
       "      <td>ToDo</td>\n",
       "    </tr>\n",
       "    <tr>\n",
       "      <th>P-Value [Acc &gt; NIR]</th>\n",
       "      <td>0.970127</td>\n",
       "      <td>0.970127</td>\n",
       "      <td>0.0135129</td>\n",
       "      <td>0.0135129</td>\n",
       "      <td>9.91445e-06</td>\n",
       "      <td>9.91445e-06</td>\n",
       "      <td>0.00220648</td>\n",
       "      <td>0.00220648</td>\n",
       "    </tr>\n",
       "    <tr>\n",
       "      <th>Kappa</th>\n",
       "      <td>-0.0269231</td>\n",
       "      <td>-0.0269231</td>\n",
       "      <td>0.494385</td>\n",
       "      <td>0.494385</td>\n",
       "      <td>0.450759</td>\n",
       "      <td>0.450759</td>\n",
       "      <td>0.508287</td>\n",
       "      <td>0.508287</td>\n",
       "    </tr>\n",
       "    <tr>\n",
       "      <th>Mcnemar's Test P-Value</th>\n",
       "      <td>ToDo</td>\n",
       "      <td>ToDo</td>\n",
       "      <td>ToDo</td>\n",
       "      <td>ToDo</td>\n",
       "      <td>ToDo</td>\n",
       "      <td>ToDo</td>\n",
       "      <td>ToDo</td>\n",
       "      <td>ToDo</td>\n",
       "    </tr>\n",
       "  </tbody>\n",
       "</table>\n",
       "</div>"
      ],
      "text/plain": [
       "                                          0_RAND     1_RAND    0_MODEL  \\\n",
       "Population                                   178        178        178   \n",
       "P: Condition positive                        100         78        100   \n",
       "N: Condition negative                         78        100         78   \n",
       "Test outcome positive                        100         78        121   \n",
       "Test outcome negative                         78        100         57   \n",
       "TP: True Positive                             55         33         89   \n",
       "TN: True Negative                             33         55         46   \n",
       "FP: False Positive                            45         45         32   \n",
       "FN: False Negative                            45         45         11   \n",
       "TPR: (Sensitivity, hit rate, recall)        0.55   0.423077       0.89   \n",
       "TNR=SPC: (Specificity)                  0.423077       0.55   0.589744   \n",
       "PPV: Pos Pred Value (Precision)             0.55   0.423077   0.735537   \n",
       "NPV: Neg Pred Value                     0.423077       0.55   0.807018   \n",
       "FPR: False-out                          0.576923       0.45   0.410256   \n",
       "FDR: False Discovery Rate                   0.45   0.576923   0.264463   \n",
       "FNR: Miss Rate                              0.45   0.576923       0.11   \n",
       "ACC: Accuracy                           0.494382   0.494382   0.758427   \n",
       "F1 score                                    0.55   0.423077    0.80543   \n",
       "MCC: Matthews correlation coefficient -0.0269231 -0.0269231   0.510183   \n",
       "Informedness                          -0.0269231 -0.0269231   0.479744   \n",
       "Markedness                            -0.0269231 -0.0269231   0.542555   \n",
       "Prevalence                              0.561798   0.438202   0.561798   \n",
       "LR+: Positive likelihood ratio          0.953333   0.940171    2.16938   \n",
       "LR-: Negative likelihood ratio           1.06364    1.04895   0.186522   \n",
       "DOR: Diagnostic odds ratio              0.896296   0.896296    11.6307   \n",
       "FOR: False omission rate                0.576923       0.45   0.192982   \n",
       "Accuracy                                0.494382   0.494382   0.758427   \n",
       "95% CI                                  0.418762   0.570192   0.688718   \n",
       "No Information Rate                         ToDo       ToDo       ToDo   \n",
       "P-Value [Acc > NIR]                     0.970127   0.970127  0.0135129   \n",
       "Kappa                                 -0.0269231 -0.0269231   0.494385   \n",
       "Mcnemar's Test P-Value                      ToDo       ToDo       ToDo   \n",
       "\n",
       "                                         1_MODEL      0_THOLD      1_THOLD  \\\n",
       "Population                                   178          178          178   \n",
       "P: Condition positive                         78          100           78   \n",
       "N: Condition negative                        100           78          100   \n",
       "Test outcome positive                         57          102           76   \n",
       "Test outcome negative                        121           76          102   \n",
       "TP: True Positive                             46           77           53   \n",
       "TN: True Negative                             89           53           77   \n",
       "FP: False Positive                            11           25           23   \n",
       "FN: False Negative                            32           23           25   \n",
       "TPR: (Sensitivity, hit rate, recall)    0.589744         0.77     0.679487   \n",
       "TNR=SPC: (Specificity)                      0.89     0.679487         0.77   \n",
       "PPV: Pos Pred Value (Precision)         0.807018     0.754902     0.697368   \n",
       "NPV: Neg Pred Value                     0.735537     0.697368     0.754902   \n",
       "FPR: False-out                              0.11     0.320513         0.23   \n",
       "FDR: False Discovery Rate               0.192982     0.245098     0.302632   \n",
       "FNR: Miss Rate                          0.410256         0.23     0.320513   \n",
       "ACC: Accuracy                           0.758427     0.730337     0.730337   \n",
       "F1 score                                0.681481     0.762376     0.688312   \n",
       "MCC: Matthews correlation coefficient   0.510183     0.450877     0.450877   \n",
       "Informedness                            0.479744     0.449487     0.449487   \n",
       "Markedness                              0.542555      0.45227      0.45227   \n",
       "Prevalence                              0.438202     0.561798     0.438202   \n",
       "LR+: Positive likelihood ratio           5.36131       2.4024      2.95429   \n",
       "LR-: Negative likelihood ratio          0.460962     0.338491      0.41625   \n",
       "DOR: Diagnostic odds ratio               11.6307      7.09739      7.09739   \n",
       "FOR: False omission rate                0.264463     0.302632     0.245098   \n",
       "Accuracy                                0.758427     0.730337     0.730337   \n",
       "95% CI                                   0.81932     0.658836     0.793996   \n",
       "No Information Rate                         ToDo         ToDo         ToDo   \n",
       "P-Value [Acc > NIR]                    0.0135129  9.91445e-06  9.91445e-06   \n",
       "Kappa                                   0.494385     0.450759     0.450759   \n",
       "Mcnemar's Test P-Value                      ToDo         ToDo         ToDo   \n",
       "\n",
       "                                         0_MANUAL    1_MANUAL  \n",
       "Population                                    178         178  \n",
       "P: Condition positive                         100          78  \n",
       "N: Condition negative                          78         100  \n",
       "Test outcome positive                         118          60  \n",
       "Test outcome negative                          60         118  \n",
       "TP: True Positive                              88          48  \n",
       "TN: True Negative                              48          88  \n",
       "FP: False Positive                             30          12  \n",
       "FN: False Negative                             12          30  \n",
       "TPR: (Sensitivity, hit rate, recall)         0.88    0.615385  \n",
       "TNR=SPC: (Specificity)                   0.615385        0.88  \n",
       "PPV: Pos Pred Value (Precision)          0.745763         0.8  \n",
       "NPV: Neg Pred Value                           0.8    0.745763  \n",
       "FPR: False-out                           0.384615        0.12  \n",
       "FDR: False Discovery Rate                0.254237         0.2  \n",
       "FNR: Miss Rate                               0.12    0.384615  \n",
       "ACC: Accuracy                            0.764045    0.764045  \n",
       "F1 score                                 0.807339    0.695652  \n",
       "MCC: Matthews correlation coefficient    0.519964    0.519964  \n",
       "Informedness                             0.495385    0.495385  \n",
       "Markedness                               0.545763    0.545763  \n",
       "Prevalence                               0.561798    0.438202  \n",
       "LR+: Positive likelihood ratio              2.288     5.12821  \n",
       "LR-: Negative likelihood ratio              0.195    0.437063  \n",
       "DOR: Diagnostic odds ratio                11.7333     11.7333  \n",
       "FOR: False omission rate                      0.2    0.254237  \n",
       "Accuracy                                 0.764045    0.764045  \n",
       "95% CI                                   0.694736    0.824343  \n",
       "No Information Rate                          ToDo        ToDo  \n",
       "P-Value [Acc > NIR]                    0.00220648  0.00220648  \n",
       "Kappa                                    0.508287    0.508287  \n",
       "Mcnemar's Test P-Value                       ToDo        ToDo  "
      ]
     },
     "execution_count": 154,
     "metadata": {},
     "output_type": "execute_result"
    }
   ],
   "source": [
    "# convert them to df's with all the usefull info\n",
    "df_rand_cm = pd.concat([rand_cm.stats_class, pd.DataFrame(rand_cm.stats_overall).transpose()])\n",
    "df_rand_cm.columns = [str(col) + '_RAND' for col in df_rand_cm.columns]\n",
    "\n",
    "df_cm = pd.concat([cm.stats_class, pd.DataFrame(cm.stats_overall).transpose()])\n",
    "df_cm.columns = [str(col) + '_MODEL' for col in df_cm.columns]\n",
    "\n",
    "df_cm_thold = pd.concat([cm_thold.stats_class, pd.DataFrame(cm_thold.stats_overall).transpose()])\n",
    "df_cm_thold.columns = [str(col) + '_THOLD' for col in df_cm_thold.columns]\n",
    "\n",
    "df_cm_thold_man = pd.concat([cm_thold_man.stats_class, pd.DataFrame(cm_thold_man.stats_overall).transpose()])\n",
    "df_cm_thold_man.columns = [str(col) + '_MANUAL' for col in df_cm_thold_man.columns]\n",
    "\n",
    "# concat all the df's into one\n",
    "df_cm_all = pd.concat([df_rand_cm, df_cm, df_cm_thold, df_cm_thold_man],axis=1)\n",
    "df_cm_all"
   ]
  },
  {
   "cell_type": "markdown",
   "metadata": {},
   "source": [
    "### Performance: ROC"
   ]
  },
  {
   "cell_type": "code",
   "execution_count": null,
   "metadata": {
    "ExecuteTime": {
     "start_time": "2017-09-08T15:37:53.110Z"
    },
    "scrolled": true
   },
   "outputs": [],
   "source": [
    "# set up data\n",
    "y_true = y_dev\n",
    "y_probs_1 = y_dev_pred_probs[1]\n",
    "y_probs_1_label = 'y_dev_pred'\n",
    "y_probs_2 = y_dev_pred_probs[1]\n",
    "y_probs_2_label = 'y_dev_pred'\n",
    "\n",
    "# set up plot\n",
    "plt.figure(figsize=(14,10),dpi=640)\n",
    "fpr, tpr, thresholds = roc_curve(y_true, y_probs_1)\n",
    "auc1 = auc(fpr,tpr)\n",
    "\n",
    "plt.plot(fpr, tpr,label=\"AUC {0}:{1}\".format(y_probs_1_label, auc1),color='red', linewidth=2)\n",
    "\n",
    "fpr, tpr, thresholds = roc_curve(y_true, y_probs_2)\n",
    "auc2 = auc(fpr,tpr)\n",
    "\n",
    "plt.plot(fpr, tpr,label=\"AUC {0}:{1}\".format(y_probs_2_label, auc2),color='blue', linewidth=2)\n",
    "\n",
    "plt.plot([0, 1], [0, 1], 'k--', lw=1) \n",
    "plt.xlim([0.0, 1.0]) \n",
    "plt.ylim([0.0, 1.05])\n",
    "\n",
    "plt.xlabel('False Positive Rate')  \n",
    "plt.ylabel('True Positive Rate') \n",
    "plt.title('ROC') \n",
    "plt.grid(True)\n",
    "plt.legend(loc=\"lower right\")\n",
    "plt.show()"
   ]
  },
  {
   "cell_type": "code",
   "execution_count": null,
   "metadata": {
    "collapsed": true
   },
   "outputs": [],
   "source": []
  }
 ],
 "metadata": {
  "kernelspec": {
   "display_name": "Python 3",
   "language": "python",
   "name": "python3"
  },
  "language_info": {
   "codemirror_mode": {
    "name": "ipython",
    "version": 3
   },
   "file_extension": ".py",
   "mimetype": "text/x-python",
   "name": "python",
   "nbconvert_exporter": "python",
   "pygments_lexer": "ipython3",
   "version": "3.6.1"
  },
  "toc": {
   "colors": {
    "hover_highlight": "#DAA520",
    "navigate_num": "#000000",
    "navigate_text": "#333333",
    "running_highlight": "#FF0000",
    "selected_highlight": "#FFD700",
    "sidebar_border": "#EEEEEE",
    "wrapper_background": "#FFFFFF"
   },
   "moveMenuLeft": true,
   "nav_menu": {
    "height": "12px",
    "width": "252px"
   },
   "navigate_menu": true,
   "number_sections": true,
   "sideBar": true,
   "threshold": 4,
   "toc_cell": false,
   "toc_position": {
    "height": "762px",
    "left": "0px",
    "right": "1359px",
    "top": "32px",
    "width": "241px"
   },
   "toc_section_display": "block",
   "toc_window_display": true,
   "widenNotebook": false
  },
  "varInspector": {
   "cols": {
    "lenName": 16,
    "lenType": 16,
    "lenVar": 40
   },
   "kernels_config": {
    "python": {
     "delete_cmd_postfix": "",
     "delete_cmd_prefix": "del ",
     "library": "var_list.py",
     "varRefreshCmd": "print(var_dic_list())"
    },
    "r": {
     "delete_cmd_postfix": ") ",
     "delete_cmd_prefix": "rm(",
     "library": "var_list.r",
     "varRefreshCmd": "cat(var_dic_list()) "
    }
   },
   "types_to_exclude": [
    "module",
    "function",
    "builtin_function_or_method",
    "instance",
    "_Feature"
   ],
   "window_display": false
  }
 },
 "nbformat": 4,
 "nbformat_minor": 2
}
